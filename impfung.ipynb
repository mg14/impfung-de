{
 "cells": [
  {
   "cell_type": "code",
   "execution_count": 83,
   "metadata": {},
   "outputs": [],
   "source": [
    "import pandas as pd\n",
    "import matplotlib.pyplot as plt\n",
    "import numpy as np\n",
    "%matplotlib inline\n",
    "%config InlineBackend.figure_format='retina'"
   ]
  },
  {
   "cell_type": "code",
   "execution_count": 699,
   "metadata": {},
   "outputs": [
    {
     "name": "stderr",
     "output_type": "stream",
     "text": [
      "/Users/mg14/anaconda3/envs/npy/lib/python3.7/site-packages/IPython/core/interactiveshell.py:3146: DtypeWarning: Columns (1) have mixed types.Specify dtype option on import or set low_memory=False.\n",
      "  interactivity=interactivity, compiler=compiler, result=result)\n"
     ]
    }
   ],
   "source": [
    "url = \"https://raw.githubusercontent.com/robert-koch-institut/COVID-19-Impfungen_in_Deutschland/master/Aktuell_Deutschland_Landkreise_COVID-19-Impfungen.csv\"\n",
    "data = pd.read_csv(url, sep=\",\")"
   ]
  },
  {
   "cell_type": "code",
   "execution_count": 700,
   "metadata": {},
   "outputs": [
    {
     "data": {
      "text/html": [
       "<div>\n",
       "<style scoped>\n",
       "    .dataframe tbody tr th:only-of-type {\n",
       "        vertical-align: middle;\n",
       "    }\n",
       "\n",
       "    .dataframe tbody tr th {\n",
       "        vertical-align: top;\n",
       "    }\n",
       "\n",
       "    .dataframe thead th {\n",
       "        text-align: right;\n",
       "    }\n",
       "</style>\n",
       "<table border=\"1\" class=\"dataframe\">\n",
       "  <thead>\n",
       "    <tr style=\"text-align: right;\">\n",
       "      <th></th>\n",
       "      <th>Impfdatum</th>\n",
       "      <th>LandkreisId_Impfort</th>\n",
       "      <th>Altersgruppe</th>\n",
       "      <th>Impfschutz</th>\n",
       "      <th>Anzahl</th>\n",
       "    </tr>\n",
       "  </thead>\n",
       "  <tbody>\n",
       "    <tr>\n",
       "      <th>0</th>\n",
       "      <td>2020-12-27</td>\n",
       "      <td>1003</td>\n",
       "      <td>18-59</td>\n",
       "      <td>1</td>\n",
       "      <td>9</td>\n",
       "    </tr>\n",
       "    <tr>\n",
       "      <th>1</th>\n",
       "      <td>2020-12-27</td>\n",
       "      <td>1003</td>\n",
       "      <td>60+</td>\n",
       "      <td>1</td>\n",
       "      <td>19</td>\n",
       "    </tr>\n",
       "    <tr>\n",
       "      <th>2</th>\n",
       "      <td>2020-12-27</td>\n",
       "      <td>1053</td>\n",
       "      <td>18-59</td>\n",
       "      <td>1</td>\n",
       "      <td>13</td>\n",
       "    </tr>\n",
       "    <tr>\n",
       "      <th>3</th>\n",
       "      <td>2020-12-27</td>\n",
       "      <td>1053</td>\n",
       "      <td>60+</td>\n",
       "      <td>1</td>\n",
       "      <td>200</td>\n",
       "    </tr>\n",
       "    <tr>\n",
       "      <th>4</th>\n",
       "      <td>2020-12-27</td>\n",
       "      <td>1055</td>\n",
       "      <td>18-59</td>\n",
       "      <td>1</td>\n",
       "      <td>20</td>\n",
       "    </tr>\n",
       "    <tr>\n",
       "      <th>...</th>\n",
       "      <td>...</td>\n",
       "      <td>...</td>\n",
       "      <td>...</td>\n",
       "      <td>...</td>\n",
       "      <td>...</td>\n",
       "    </tr>\n",
       "    <tr>\n",
       "      <th>644324</th>\n",
       "      <td>2021-12-15</td>\n",
       "      <td>u</td>\n",
       "      <td>12-17</td>\n",
       "      <td>3</td>\n",
       "      <td>22</td>\n",
       "    </tr>\n",
       "    <tr>\n",
       "      <th>644325</th>\n",
       "      <td>2021-12-15</td>\n",
       "      <td>u</td>\n",
       "      <td>18-59</td>\n",
       "      <td>1</td>\n",
       "      <td>61</td>\n",
       "    </tr>\n",
       "    <tr>\n",
       "      <th>644326</th>\n",
       "      <td>2021-12-15</td>\n",
       "      <td>u</td>\n",
       "      <td>18-59</td>\n",
       "      <td>2</td>\n",
       "      <td>38</td>\n",
       "    </tr>\n",
       "    <tr>\n",
       "      <th>644327</th>\n",
       "      <td>2021-12-15</td>\n",
       "      <td>u</td>\n",
       "      <td>18-59</td>\n",
       "      <td>3</td>\n",
       "      <td>1654</td>\n",
       "    </tr>\n",
       "    <tr>\n",
       "      <th>644328</th>\n",
       "      <td>2021-12-15</td>\n",
       "      <td>u</td>\n",
       "      <td>60+</td>\n",
       "      <td>3</td>\n",
       "      <td>315</td>\n",
       "    </tr>\n",
       "  </tbody>\n",
       "</table>\n",
       "<p>644329 rows × 5 columns</p>\n",
       "</div>"
      ],
      "text/plain": [
       "         Impfdatum LandkreisId_Impfort Altersgruppe  Impfschutz  Anzahl\n",
       "0       2020-12-27                1003        18-59           1       9\n",
       "1       2020-12-27                1003          60+           1      19\n",
       "2       2020-12-27                1053        18-59           1      13\n",
       "3       2020-12-27                1053          60+           1     200\n",
       "4       2020-12-27                1055        18-59           1      20\n",
       "...            ...                 ...          ...         ...     ...\n",
       "644324  2021-12-15                   u        12-17           3      22\n",
       "644325  2021-12-15                   u        18-59           1      61\n",
       "644326  2021-12-15                   u        18-59           2      38\n",
       "644327  2021-12-15                   u        18-59           3    1654\n",
       "644328  2021-12-15                   u          60+           3     315\n",
       "\n",
       "[644329 rows x 5 columns]"
      ]
     },
     "execution_count": 700,
     "metadata": {},
     "output_type": "execute_result"
    }
   ],
   "source": [
    "data"
   ]
  },
  {
   "cell_type": "code",
   "execution_count": 503,
   "metadata": {},
   "outputs": [],
   "source": [
    "agg = pd.pivot_table(data, values=\"Anzahl\", index=[\"Impfdatum\",\"Altersgruppe\"], columns=\"Impfschutz\", aggfunc=np.sum)\n",
    "agg_avg = ( agg.loc[\"2021-12-08\"] + agg.loc[\"2021-12-09\"] + agg.loc[\"2021-12-10\"] + agg.loc[\"2021-12-11\"] + agg.loc[\"2021-12-12\"] + agg.loc[\"2021-12-13\"] + agg.loc[\"2021-12-14\"] + agg.loc[\"2021-12-15\"])/7"
   ]
  },
  {
   "cell_type": "code",
   "execution_count": 504,
   "metadata": {},
   "outputs": [],
   "source": [
    "latest = data.loc[data.Impfdatum==data.Impfdatum.values[-1],:]\n",
    "agg = pd.pivot_table(latest, values=\"Anzahl\", index=\"Altersgruppe\", columns=\"Impfschutz\", aggfunc=np.sum)"
   ]
  },
  {
   "cell_type": "code",
   "execution_count": 702,
   "metadata": {},
   "outputs": [
    {
     "data": {
      "text/plain": [
       "Text(0.5, 0, 'Altersgruppe')"
      ]
     },
     "execution_count": 702,
     "metadata": {},
     "output_type": "execute_result"
    },
    {
     "data": {
      "image/png": "[encoded data removed]",
      "text/plain": [
       "<Figure size 360x288 with 1 Axes>"
      ]
     },
     "metadata": {
      "image/png": {
       "height": 261,
       "width": 352
      }
     },
     "output_type": "display_data"
    }
   ],
   "source": [
    "plt.rcParams['figure.facecolor']='white'\n",
    "agg_avg.plot.bar(figsize=(5,4), color=['C3','C1','C0'])\n",
    "date = pd.to_datetime(data.Impfdatum.values[-1]).strftime('%d.%m.%y')\n",
    "plt.ylabel(f\"Impfungen, 7-Tage-Schnitt\")\n",
    "plt.xticks(rotation=0)\n",
    "plt.grid(axis='y', ls=\":\")\n",
    "for s in plt.gca().spines.values():\n",
    "    s.set_visible(False)\n",
    "plt.axhline(0, color='gray')\n",
    "plt.legend(title=\"Impfung Nr\")\n",
    "plt.xlabel(\"Altersgruppe\")"
   ]
  },
  {
   "cell_type": "code",
   "execution_count": 506,
   "metadata": {},
   "outputs": [
    {
     "data": {
      "text/html": [
       "<div>\n",
       "<style scoped>\n",
       "    .dataframe tbody tr th:only-of-type {\n",
       "        vertical-align: middle;\n",
       "    }\n",
       "\n",
       "    .dataframe tbody tr th {\n",
       "        vertical-align: top;\n",
       "    }\n",
       "\n",
       "    .dataframe thead th {\n",
       "        text-align: right;\n",
       "    }\n",
       "</style>\n",
       "<table border=\"1\" class=\"dataframe\">\n",
       "  <thead>\n",
       "    <tr style=\"text-align: right;\">\n",
       "      <th>Impfschutz</th>\n",
       "      <th>1</th>\n",
       "      <th>2</th>\n",
       "      <th>3</th>\n",
       "    </tr>\n",
       "    <tr>\n",
       "      <th>Altersgruppe</th>\n",
       "      <th></th>\n",
       "      <th></th>\n",
       "      <th></th>\n",
       "    </tr>\n",
       "  </thead>\n",
       "  <tbody>\n",
       "    <tr>\n",
       "      <th>12-17</th>\n",
       "      <td>29885</td>\n",
       "      <td>16783</td>\n",
       "      <td>8079</td>\n",
       "    </tr>\n",
       "    <tr>\n",
       "      <th>18-59</th>\n",
       "      <td>52966</td>\n",
       "      <td>82910</td>\n",
       "      <td>681518</td>\n",
       "    </tr>\n",
       "    <tr>\n",
       "      <th>60+</th>\n",
       "      <td>11098</td>\n",
       "      <td>16340</td>\n",
       "      <td>596772</td>\n",
       "    </tr>\n",
       "  </tbody>\n",
       "</table>\n",
       "</div>"
      ],
      "text/plain": [
       "Impfschutz        1      2       3\n",
       "Altersgruppe                      \n",
       "12-17         29885  16783    8079\n",
       "18-59         52966  82910  681518\n",
       "60+           11098  16340  596772"
      ]
     },
     "execution_count": 506,
     "metadata": {},
     "output_type": "execute_result"
    }
   ],
   "source": [
    "agg"
   ]
  },
  {
   "cell_type": "code",
   "execution_count": 507,
   "metadata": {},
   "outputs": [
    {
     "data": {
      "text/html": [
       "<div>\n",
       "<style scoped>\n",
       "    .dataframe tbody tr th:only-of-type {\n",
       "        vertical-align: middle;\n",
       "    }\n",
       "\n",
       "    .dataframe tbody tr th {\n",
       "        vertical-align: top;\n",
       "    }\n",
       "\n",
       "    .dataframe thead th {\n",
       "        text-align: right;\n",
       "    }\n",
       "</style>\n",
       "<table border=\"1\" class=\"dataframe\">\n",
       "  <thead>\n",
       "    <tr style=\"text-align: right;\">\n",
       "      <th>Impfschutz</th>\n",
       "      <th>1</th>\n",
       "      <th>2</th>\n",
       "      <th>3</th>\n",
       "    </tr>\n",
       "    <tr>\n",
       "      <th>Altersgruppe</th>\n",
       "      <th></th>\n",
       "      <th></th>\n",
       "      <th></th>\n",
       "    </tr>\n",
       "  </thead>\n",
       "  <tbody>\n",
       "    <tr>\n",
       "      <th>12-17</th>\n",
       "      <td>2.0</td>\n",
       "      <td>1.1</td>\n",
       "      <td>0.5</td>\n",
       "    </tr>\n",
       "    <tr>\n",
       "      <th>18-59</th>\n",
       "      <td>3.5</td>\n",
       "      <td>5.5</td>\n",
       "      <td>45.5</td>\n",
       "    </tr>\n",
       "    <tr>\n",
       "      <th>60+</th>\n",
       "      <td>0.7</td>\n",
       "      <td>1.1</td>\n",
       "      <td>39.9</td>\n",
       "    </tr>\n",
       "  </tbody>\n",
       "</table>\n",
       "</div>"
      ],
      "text/plain": [
       "Impfschutz      1    2     3\n",
       "Altersgruppe                \n",
       "12-17         2.0  1.1   0.5\n",
       "18-59         3.5  5.5  45.5\n",
       "60+           0.7  1.1  39.9"
      ]
     },
     "execution_count": 507,
     "metadata": {},
     "output_type": "execute_result"
    }
   ],
   "source": [
    "(agg  / agg.values.sum() * 100).round(1)"
   ]
  },
  {
   "cell_type": "code",
   "execution_count": 725,
   "metadata": {},
   "outputs": [],
   "source": [
    "hr = np.array([2e-3, 2e-2, 1.6e-1])\n",
    "ve = np.array([1-0.08, (1-0.04)*0.08, 0.99*0.2])\n",
    "#ve = np.array([76.7, 83.7*(100-76.7)/100, 96.9*(100-67.6)/100])/100.\n",
    "rr =  hosp / hosp * (hr.reshape(-1,1) * ve.reshape(1,-1))\n",
    "hosp = agg_avg * rr"
   ]
  },
  {
   "cell_type": "code",
   "execution_count": 726,
   "metadata": {},
   "outputs": [
    {
     "data": {
      "text/plain": [
       "Text(0.5, 0, 'Altersgruppe')"
      ]
     },
     "execution_count": 726,
     "metadata": {},
     "output_type": "execute_result"
    },
    {
     "data": {
      "image/png": "[encoded data removed]",
      "text/plain": [
       "<Figure size 360x288 with 1 Axes>"
      ]
     },
     "metadata": {
      "image/png": {
       "height": 261,
       "width": 347
      }
     },
     "output_type": "display_data"
    }
   ],
   "source": [
    "plt.rcParams['figure.facecolor']='white'\n",
    "rr.plot.bar(figsize=(5,4),color=['C3','C1','C0'])\n",
    "date = pd.to_datetime(data.Impfdatum.values[-1]).strftime('%d.%m.%y')\n",
    "plt.ylabel(f\"Verhinderte Hospitalisierungen\\npro Impfung (Omikron)\")\n",
    "plt.xticks(rotation=0)\n",
    "plt.grid(axis='y', ls=\":\")\n",
    "for s in plt.gca().spines.values():\n",
    "    s.set_visible(False)\n",
    "plt.axhline(0, color='gray')\n",
    "plt.legend(title=\"Impfung Nr\")\n",
    "plt.xlabel(\"Altersgruppe\")"
   ]
  },
  {
   "cell_type": "code",
   "execution_count": 719,
   "metadata": {},
   "outputs": [
    {
     "data": {
      "text/plain": [
       "Text(0.5, 0, 'Altersgruppe')"
      ]
     },
     "execution_count": 719,
     "metadata": {},
     "output_type": "execute_result"
    },
    {
     "data": {
      "image/png": "[encoded data removed]",
      "text/plain": [
       "<Figure size 360x288 with 1 Axes>"
      ]
     },
     "metadata": {
      "image/png": {
       "height": 261,
       "width": 357
      }
     },
     "output_type": "display_data"
    }
   ],
   "source": [
    "plt.rcParams['figure.facecolor']='white'\n",
    "hosp.plot.bar(figsize=(5,4),color=['C3','C1','C0'])\n",
    "date = pd.to_datetime(data.Impfdatum.values[-1]).strftime('%d.%m.%y')\n",
    "plt.ylabel(f\"Verhinderte Hospitalisierungen\\ndurch verabreichte Impfungen (Delta)\")\n",
    "plt.xticks(rotation=0)\n",
    "plt.grid(axis='y', ls=\":\")\n",
    "for s in plt.gca().spines.values():\n",
    "    s.set_visible(False)\n",
    "plt.axhline(0, color='gray')\n",
    "plt.legend(title=\"Impfung Nr\")\n",
    "plt.xlabel(\"Altersgruppe\")"
   ]
  },
  {
   "cell_type": "code",
   "execution_count": 510,
   "metadata": {},
   "outputs": [
    {
     "data": {
      "text/html": [
       "<div>\n",
       "<style scoped>\n",
       "    .dataframe tbody tr th:only-of-type {\n",
       "        vertical-align: middle;\n",
       "    }\n",
       "\n",
       "    .dataframe tbody tr th {\n",
       "        vertical-align: top;\n",
       "    }\n",
       "\n",
       "    .dataframe thead th {\n",
       "        text-align: right;\n",
       "    }\n",
       "</style>\n",
       "<table border=\"1\" class=\"dataframe\">\n",
       "  <thead>\n",
       "    <tr style=\"text-align: right;\">\n",
       "      <th>Impfschutz</th>\n",
       "      <th>1</th>\n",
       "      <th>2</th>\n",
       "      <th>3</th>\n",
       "    </tr>\n",
       "    <tr>\n",
       "      <th>Altersgruppe</th>\n",
       "      <th></th>\n",
       "      <th></th>\n",
       "      <th></th>\n",
       "    </tr>\n",
       "  </thead>\n",
       "  <tbody>\n",
       "    <tr>\n",
       "      <th>12-17</th>\n",
       "      <td>3.303857</td>\n",
       "      <td>1.159529</td>\n",
       "      <td>0.356100</td>\n",
       "    </tr>\n",
       "    <tr>\n",
       "      <th>18-59</th>\n",
       "      <td>96.631143</td>\n",
       "      <td>59.358143</td>\n",
       "      <td>285.009786</td>\n",
       "    </tr>\n",
       "    <tr>\n",
       "      <th>60+</th>\n",
       "      <td>176.774286</td>\n",
       "      <td>108.030000</td>\n",
       "      <td>2173.143571</td>\n",
       "    </tr>\n",
       "  </tbody>\n",
       "</table>\n",
       "</div>"
      ],
      "text/plain": [
       "Impfschutz             1           2            3\n",
       "Altersgruppe                                     \n",
       "12-17           3.303857    1.159529     0.356100\n",
       "18-59          96.631143   59.358143   285.009786\n",
       "60+           176.774286  108.030000  2173.143571"
      ]
     },
     "execution_count": 510,
     "metadata": {},
     "output_type": "execute_result"
    }
   ],
   "source": [
    "hosp"
   ]
  },
  {
   "cell_type": "code",
   "execution_count": 511,
   "metadata": {},
   "outputs": [],
   "source": [
    "rate = pd.read_csv(\"https://raw.githubusercontent.com/robert-koch-institut/COVID-19-Impfungen_in_Deutschland/master/Aktuell_Deutschland_Impfquoten_COVID-19.csv\")"
   ]
  },
  {
   "cell_type": "code",
   "execution_count": 512,
   "metadata": {},
   "outputs": [
    {
     "data": {
      "text/html": [
       "<div>\n",
       "<style scoped>\n",
       "    .dataframe tbody tr th:only-of-type {\n",
       "        vertical-align: middle;\n",
       "    }\n",
       "\n",
       "    .dataframe tbody tr th {\n",
       "        vertical-align: top;\n",
       "    }\n",
       "\n",
       "    .dataframe thead th {\n",
       "        text-align: right;\n",
       "    }\n",
       "</style>\n",
       "<table border=\"1\" class=\"dataframe\">\n",
       "  <thead>\n",
       "    <tr style=\"text-align: right;\">\n",
       "      <th></th>\n",
       "      <th>Datum</th>\n",
       "      <th>Bundesland</th>\n",
       "      <th>BundeslandId_Impfort</th>\n",
       "      <th>Impfungen_gesamt</th>\n",
       "      <th>Impfungen_gesamt_min1</th>\n",
       "      <th>Impfungen_gesamt_voll</th>\n",
       "      <th>Impfungen_gesamt_boost</th>\n",
       "      <th>Impfquote_gesamt_min1</th>\n",
       "      <th>Impfquote_12bis17_min1</th>\n",
       "      <th>Impfquote_18plus_min1</th>\n",
       "      <th>...</th>\n",
       "      <th>Impfquote_gesamt_voll</th>\n",
       "      <th>Impfquote_12bis17_voll</th>\n",
       "      <th>Impfquote_18plus_voll</th>\n",
       "      <th>Impfquote_18bis59_voll</th>\n",
       "      <th>Impfquote_60plus_voll</th>\n",
       "      <th>Impfquote_gesamt_boost</th>\n",
       "      <th>Impfquote_12bis17_boost</th>\n",
       "      <th>Impfquote_18plus_boost</th>\n",
       "      <th>Impfquote_18bis59_boost</th>\n",
       "      <th>Impfquote_60plus_boost</th>\n",
       "    </tr>\n",
       "  </thead>\n",
       "  <tbody>\n",
       "    <tr>\n",
       "      <th>0</th>\n",
       "      <td>2021-12-15</td>\n",
       "      <td>Deutschland</td>\n",
       "      <td>0</td>\n",
       "      <td>138226586</td>\n",
       "      <td>60679186</td>\n",
       "      <td>58171445</td>\n",
       "      <td>22923853</td>\n",
       "      <td>73.0</td>\n",
       "      <td>57.7</td>\n",
       "      <td>83.7</td>\n",
       "      <td>...</td>\n",
       "      <td>70.0</td>\n",
       "      <td>49.5</td>\n",
       "      <td>80.7</td>\n",
       "      <td>77.4</td>\n",
       "      <td>86.8</td>\n",
       "      <td>27.6</td>\n",
       "      <td>3.1</td>\n",
       "      <td>32.8</td>\n",
       "      <td>24.3</td>\n",
       "      <td>48.8</td>\n",
       "    </tr>\n",
       "    <tr>\n",
       "      <th>1</th>\n",
       "      <td>2021-12-15</td>\n",
       "      <td>Schleswig-Holstein</td>\n",
       "      <td>1</td>\n",
       "      <td>5095490</td>\n",
       "      <td>2234493</td>\n",
       "      <td>2165657</td>\n",
       "      <td>828546</td>\n",
       "      <td>76.8</td>\n",
       "      <td>71.3</td>\n",
       "      <td>88.7</td>\n",
       "      <td>...</td>\n",
       "      <td>74.4</td>\n",
       "      <td>63.0</td>\n",
       "      <td>86.4</td>\n",
       "      <td>83.7</td>\n",
       "      <td>91.1</td>\n",
       "      <td>28.5</td>\n",
       "      <td>1.5</td>\n",
       "      <td>33.9</td>\n",
       "      <td>23.2</td>\n",
       "      <td>52.8</td>\n",
       "    </tr>\n",
       "    <tr>\n",
       "      <th>2</th>\n",
       "      <td>2021-12-15</td>\n",
       "      <td>Hamburg</td>\n",
       "      <td>2</td>\n",
       "      <td>3165846</td>\n",
       "      <td>1447714</td>\n",
       "      <td>1404726</td>\n",
       "      <td>418510</td>\n",
       "      <td>78.2</td>\n",
       "      <td>58.5</td>\n",
       "      <td>90.4</td>\n",
       "      <td>...</td>\n",
       "      <td>75.8</td>\n",
       "      <td>52.7</td>\n",
       "      <td>88.0</td>\n",
       "      <td>88.1</td>\n",
       "      <td>88.0</td>\n",
       "      <td>22.6</td>\n",
       "      <td>2.9</td>\n",
       "      <td>27.0</td>\n",
       "      <td>20.5</td>\n",
       "      <td>43.3</td>\n",
       "    </tr>\n",
       "    <tr>\n",
       "      <th>3</th>\n",
       "      <td>2021-12-15</td>\n",
       "      <td>Niedersachsen</td>\n",
       "      <td>3</td>\n",
       "      <td>13572457</td>\n",
       "      <td>5993160</td>\n",
       "      <td>5730743</td>\n",
       "      <td>2277567</td>\n",
       "      <td>74.9</td>\n",
       "      <td>64.0</td>\n",
       "      <td>85.6</td>\n",
       "      <td>...</td>\n",
       "      <td>71.6</td>\n",
       "      <td>55.8</td>\n",
       "      <td>82.2</td>\n",
       "      <td>78.4</td>\n",
       "      <td>89.1</td>\n",
       "      <td>28.5</td>\n",
       "      <td>3.7</td>\n",
       "      <td>33.9</td>\n",
       "      <td>26.2</td>\n",
       "      <td>48.1</td>\n",
       "    </tr>\n",
       "    <tr>\n",
       "      <th>4</th>\n",
       "      <td>2021-12-15</td>\n",
       "      <td>Bremen</td>\n",
       "      <td>4</td>\n",
       "      <td>1270480</td>\n",
       "      <td>581272</td>\n",
       "      <td>555390</td>\n",
       "      <td>180716</td>\n",
       "      <td>85.5</td>\n",
       "      <td>59.8</td>\n",
       "      <td>98.6</td>\n",
       "      <td>...</td>\n",
       "      <td>81.7</td>\n",
       "      <td>53.8</td>\n",
       "      <td>94.4</td>\n",
       "      <td>94.5</td>\n",
       "      <td>94.1</td>\n",
       "      <td>26.6</td>\n",
       "      <td>1.3</td>\n",
       "      <td>31.7</td>\n",
       "      <td>21.9</td>\n",
       "      <td>51.7</td>\n",
       "    </tr>\n",
       "    <tr>\n",
       "      <th>5</th>\n",
       "      <td>2021-12-15</td>\n",
       "      <td>Nordrhein-Westfalen</td>\n",
       "      <td>5</td>\n",
       "      <td>31511293</td>\n",
       "      <td>13761513</td>\n",
       "      <td>13106872</td>\n",
       "      <td>5441178</td>\n",
       "      <td>76.8</td>\n",
       "      <td>64.2</td>\n",
       "      <td>88.0</td>\n",
       "      <td>...</td>\n",
       "      <td>73.1</td>\n",
       "      <td>56.3</td>\n",
       "      <td>84.1</td>\n",
       "      <td>81.3</td>\n",
       "      <td>89.6</td>\n",
       "      <td>30.4</td>\n",
       "      <td>3.3</td>\n",
       "      <td>36.3</td>\n",
       "      <td>27.2</td>\n",
       "      <td>53.8</td>\n",
       "    </tr>\n",
       "    <tr>\n",
       "      <th>6</th>\n",
       "      <td>2021-12-15</td>\n",
       "      <td>Hessen</td>\n",
       "      <td>6</td>\n",
       "      <td>10193456</td>\n",
       "      <td>4580976</td>\n",
       "      <td>4333044</td>\n",
       "      <td>1526609</td>\n",
       "      <td>72.8</td>\n",
       "      <td>57.2</td>\n",
       "      <td>83.7</td>\n",
       "      <td>...</td>\n",
       "      <td>68.9</td>\n",
       "      <td>49.0</td>\n",
       "      <td>79.5</td>\n",
       "      <td>76.7</td>\n",
       "      <td>85.3</td>\n",
       "      <td>24.3</td>\n",
       "      <td>3.0</td>\n",
       "      <td>29.0</td>\n",
       "      <td>21.6</td>\n",
       "      <td>43.7</td>\n",
       "    </tr>\n",
       "    <tr>\n",
       "      <th>7</th>\n",
       "      <td>2021-12-15</td>\n",
       "      <td>Rheinland-Pfalz</td>\n",
       "      <td>7</td>\n",
       "      <td>6854529</td>\n",
       "      <td>3033644</td>\n",
       "      <td>2839431</td>\n",
       "      <td>1146107</td>\n",
       "      <td>74.0</td>\n",
       "      <td>59.9</td>\n",
       "      <td>84.6</td>\n",
       "      <td>...</td>\n",
       "      <td>69.3</td>\n",
       "      <td>49.9</td>\n",
       "      <td>79.6</td>\n",
       "      <td>75.5</td>\n",
       "      <td>87.1</td>\n",
       "      <td>28.0</td>\n",
       "      <td>3.5</td>\n",
       "      <td>33.2</td>\n",
       "      <td>24.5</td>\n",
       "      <td>49.0</td>\n",
       "    </tr>\n",
       "    <tr>\n",
       "      <th>8</th>\n",
       "      <td>2021-12-15</td>\n",
       "      <td>Baden-Württemberg</td>\n",
       "      <td>8</td>\n",
       "      <td>17948450</td>\n",
       "      <td>7813149</td>\n",
       "      <td>7561106</td>\n",
       "      <td>3043248</td>\n",
       "      <td>70.4</td>\n",
       "      <td>53.6</td>\n",
       "      <td>81.1</td>\n",
       "      <td>...</td>\n",
       "      <td>68.1</td>\n",
       "      <td>45.3</td>\n",
       "      <td>79.0</td>\n",
       "      <td>75.9</td>\n",
       "      <td>85.2</td>\n",
       "      <td>27.4</td>\n",
       "      <td>3.5</td>\n",
       "      <td>32.8</td>\n",
       "      <td>25.3</td>\n",
       "      <td>48.0</td>\n",
       "    </tr>\n",
       "    <tr>\n",
       "      <th>9</th>\n",
       "      <td>2021-12-15</td>\n",
       "      <td>Bayern</td>\n",
       "      <td>9</td>\n",
       "      <td>21429738</td>\n",
       "      <td>9275995</td>\n",
       "      <td>8996572</td>\n",
       "      <td>3655235</td>\n",
       "      <td>70.6</td>\n",
       "      <td>58.8</td>\n",
       "      <td>80.8</td>\n",
       "      <td>...</td>\n",
       "      <td>68.5</td>\n",
       "      <td>49.1</td>\n",
       "      <td>78.9</td>\n",
       "      <td>76.1</td>\n",
       "      <td>84.7</td>\n",
       "      <td>27.8</td>\n",
       "      <td>3.0</td>\n",
       "      <td>33.1</td>\n",
       "      <td>24.3</td>\n",
       "      <td>51.1</td>\n",
       "    </tr>\n",
       "    <tr>\n",
       "      <th>10</th>\n",
       "      <td>2021-12-15</td>\n",
       "      <td>Saarland</td>\n",
       "      <td>10</td>\n",
       "      <td>1799440</td>\n",
       "      <td>778628</td>\n",
       "      <td>749314</td>\n",
       "      <td>319922</td>\n",
       "      <td>79.1</td>\n",
       "      <td>61.1</td>\n",
       "      <td>89.4</td>\n",
       "      <td>...</td>\n",
       "      <td>76.2</td>\n",
       "      <td>52.5</td>\n",
       "      <td>86.4</td>\n",
       "      <td>83.5</td>\n",
       "      <td>90.9</td>\n",
       "      <td>32.5</td>\n",
       "      <td>4.3</td>\n",
       "      <td>37.9</td>\n",
       "      <td>28.0</td>\n",
       "      <td>54.0</td>\n",
       "    </tr>\n",
       "    <tr>\n",
       "      <th>11</th>\n",
       "      <td>2021-12-15</td>\n",
       "      <td>Berlin</td>\n",
       "      <td>11</td>\n",
       "      <td>6279504</td>\n",
       "      <td>2717693</td>\n",
       "      <td>2627418</td>\n",
       "      <td>1059275</td>\n",
       "      <td>74.2</td>\n",
       "      <td>58.7</td>\n",
       "      <td>85.5</td>\n",
       "      <td>...</td>\n",
       "      <td>71.7</td>\n",
       "      <td>50.4</td>\n",
       "      <td>83.1</td>\n",
       "      <td>80.0</td>\n",
       "      <td>90.1</td>\n",
       "      <td>28.9</td>\n",
       "      <td>3.2</td>\n",
       "      <td>34.5</td>\n",
       "      <td>24.3</td>\n",
       "      <td>58.3</td>\n",
       "    </tr>\n",
       "    <tr>\n",
       "      <th>12</th>\n",
       "      <td>2021-12-15</td>\n",
       "      <td>Brandenburg</td>\n",
       "      <td>12</td>\n",
       "      <td>3762045</td>\n",
       "      <td>1680405</td>\n",
       "      <td>1602805</td>\n",
       "      <td>589824</td>\n",
       "      <td>66.4</td>\n",
       "      <td>43.9</td>\n",
       "      <td>75.9</td>\n",
       "      <td>...</td>\n",
       "      <td>63.3</td>\n",
       "      <td>36.4</td>\n",
       "      <td>73.1</td>\n",
       "      <td>66.9</td>\n",
       "      <td>82.3</td>\n",
       "      <td>23.3</td>\n",
       "      <td>2.3</td>\n",
       "      <td>27.6</td>\n",
       "      <td>19.2</td>\n",
       "      <td>40.2</td>\n",
       "    </tr>\n",
       "    <tr>\n",
       "      <th>13</th>\n",
       "      <td>2021-12-15</td>\n",
       "      <td>Mecklenburg-Vorpommern</td>\n",
       "      <td>13</td>\n",
       "      <td>2587977</td>\n",
       "      <td>1147998</td>\n",
       "      <td>1098654</td>\n",
       "      <td>406456</td>\n",
       "      <td>71.3</td>\n",
       "      <td>46.3</td>\n",
       "      <td>81.4</td>\n",
       "      <td>...</td>\n",
       "      <td>68.2</td>\n",
       "      <td>36.4</td>\n",
       "      <td>78.4</td>\n",
       "      <td>72.8</td>\n",
       "      <td>86.5</td>\n",
       "      <td>25.2</td>\n",
       "      <td>2.7</td>\n",
       "      <td>29.6</td>\n",
       "      <td>19.9</td>\n",
       "      <td>43.8</td>\n",
       "    </tr>\n",
       "    <tr>\n",
       "      <th>14</th>\n",
       "      <td>2021-12-15</td>\n",
       "      <td>Sachsen</td>\n",
       "      <td>14</td>\n",
       "      <td>5720309</td>\n",
       "      <td>2521134</td>\n",
       "      <td>2402373</td>\n",
       "      <td>896845</td>\n",
       "      <td>62.1</td>\n",
       "      <td>36.1</td>\n",
       "      <td>71.6</td>\n",
       "      <td>...</td>\n",
       "      <td>59.2</td>\n",
       "      <td>31.1</td>\n",
       "      <td>68.6</td>\n",
       "      <td>60.8</td>\n",
       "      <td>80.1</td>\n",
       "      <td>22.1</td>\n",
       "      <td>2.6</td>\n",
       "      <td>26.1</td>\n",
       "      <td>17.6</td>\n",
       "      <td>38.8</td>\n",
       "    </tr>\n",
       "    <tr>\n",
       "      <th>15</th>\n",
       "      <td>2021-12-15</td>\n",
       "      <td>Sachsen-Anhalt</td>\n",
       "      <td>15</td>\n",
       "      <td>3384874</td>\n",
       "      <td>1500419</td>\n",
       "      <td>1449088</td>\n",
       "      <td>542284</td>\n",
       "      <td>68.8</td>\n",
       "      <td>41.4</td>\n",
       "      <td>78.4</td>\n",
       "      <td>...</td>\n",
       "      <td>66.5</td>\n",
       "      <td>33.4</td>\n",
       "      <td>76.1</td>\n",
       "      <td>69.2</td>\n",
       "      <td>85.7</td>\n",
       "      <td>24.9</td>\n",
       "      <td>2.7</td>\n",
       "      <td>29.0</td>\n",
       "      <td>19.0</td>\n",
       "      <td>43.1</td>\n",
       "    </tr>\n",
       "    <tr>\n",
       "      <th>16</th>\n",
       "      <td>2021-12-15</td>\n",
       "      <td>Thüringen</td>\n",
       "      <td>16</td>\n",
       "      <td>3206120</td>\n",
       "      <td>1413000</td>\n",
       "      <td>1359600</td>\n",
       "      <td>525477</td>\n",
       "      <td>66.6</td>\n",
       "      <td>41.7</td>\n",
       "      <td>76.2</td>\n",
       "      <td>...</td>\n",
       "      <td>64.1</td>\n",
       "      <td>36.2</td>\n",
       "      <td>73.6</td>\n",
       "      <td>66.6</td>\n",
       "      <td>83.5</td>\n",
       "      <td>24.8</td>\n",
       "      <td>1.8</td>\n",
       "      <td>29.1</td>\n",
       "      <td>19.4</td>\n",
       "      <td>43.1</td>\n",
       "    </tr>\n",
       "    <tr>\n",
       "      <th>17</th>\n",
       "      <td>2021-12-15</td>\n",
       "      <td>Bundesressorts</td>\n",
       "      <td>17</td>\n",
       "      <td>444578</td>\n",
       "      <td>197993</td>\n",
       "      <td>188652</td>\n",
       "      <td>66054</td>\n",
       "      <td>NaN</td>\n",
       "      <td>NaN</td>\n",
       "      <td>NaN</td>\n",
       "      <td>...</td>\n",
       "      <td>NaN</td>\n",
       "      <td>NaN</td>\n",
       "      <td>NaN</td>\n",
       "      <td>NaN</td>\n",
       "      <td>NaN</td>\n",
       "      <td>NaN</td>\n",
       "      <td>NaN</td>\n",
       "      <td>NaN</td>\n",
       "      <td>NaN</td>\n",
       "      <td>NaN</td>\n",
       "    </tr>\n",
       "  </tbody>\n",
       "</table>\n",
       "<p>18 rows × 22 columns</p>\n",
       "</div>"
      ],
      "text/plain": [
       "         Datum              Bundesland  BundeslandId_Impfort  \\\n",
       "0   2021-12-15             Deutschland                     0   \n",
       "1   2021-12-15      Schleswig-Holstein                     1   \n",
       "2   2021-12-15                 Hamburg                     2   \n",
       "3   2021-12-15           Niedersachsen                     3   \n",
       "4   2021-12-15                  Bremen                     4   \n",
       "5   2021-12-15     Nordrhein-Westfalen                     5   \n",
       "6   2021-12-15                  Hessen                     6   \n",
       "7   2021-12-15         Rheinland-Pfalz                     7   \n",
       "8   2021-12-15       Baden-Württemberg                     8   \n",
       "9   2021-12-15                  Bayern                     9   \n",
       "10  2021-12-15                Saarland                    10   \n",
       "11  2021-12-15                  Berlin                    11   \n",
       "12  2021-12-15             Brandenburg                    12   \n",
       "13  2021-12-15  Mecklenburg-Vorpommern                    13   \n",
       "14  2021-12-15                 Sachsen                    14   \n",
       "15  2021-12-15          Sachsen-Anhalt                    15   \n",
       "16  2021-12-15               Thüringen                    16   \n",
       "17  2021-12-15          Bundesressorts                    17   \n",
       "\n",
       "    Impfungen_gesamt  Impfungen_gesamt_min1  Impfungen_gesamt_voll  \\\n",
       "0          138226586               60679186               58171445   \n",
       "1            5095490                2234493                2165657   \n",
       "2            3165846                1447714                1404726   \n",
       "3           13572457                5993160                5730743   \n",
       "4            1270480                 581272                 555390   \n",
       "5           31511293               13761513               13106872   \n",
       "6           10193456                4580976                4333044   \n",
       "7            6854529                3033644                2839431   \n",
       "8           17948450                7813149                7561106   \n",
       "9           21429738                9275995                8996572   \n",
       "10           1799440                 778628                 749314   \n",
       "11           6279504                2717693                2627418   \n",
       "12           3762045                1680405                1602805   \n",
       "13           2587977                1147998                1098654   \n",
       "14           5720309                2521134                2402373   \n",
       "15           3384874                1500419                1449088   \n",
       "16           3206120                1413000                1359600   \n",
       "17            444578                 197993                 188652   \n",
       "\n",
       "    Impfungen_gesamt_boost  Impfquote_gesamt_min1  Impfquote_12bis17_min1  \\\n",
       "0                 22923853                   73.0                    57.7   \n",
       "1                   828546                   76.8                    71.3   \n",
       "2                   418510                   78.2                    58.5   \n",
       "3                  2277567                   74.9                    64.0   \n",
       "4                   180716                   85.5                    59.8   \n",
       "5                  5441178                   76.8                    64.2   \n",
       "6                  1526609                   72.8                    57.2   \n",
       "7                  1146107                   74.0                    59.9   \n",
       "8                  3043248                   70.4                    53.6   \n",
       "9                  3655235                   70.6                    58.8   \n",
       "10                  319922                   79.1                    61.1   \n",
       "11                 1059275                   74.2                    58.7   \n",
       "12                  589824                   66.4                    43.9   \n",
       "13                  406456                   71.3                    46.3   \n",
       "14                  896845                   62.1                    36.1   \n",
       "15                  542284                   68.8                    41.4   \n",
       "16                  525477                   66.6                    41.7   \n",
       "17                   66054                    NaN                     NaN   \n",
       "\n",
       "    Impfquote_18plus_min1  ...  Impfquote_gesamt_voll  Impfquote_12bis17_voll  \\\n",
       "0                    83.7  ...                   70.0                    49.5   \n",
       "1                    88.7  ...                   74.4                    63.0   \n",
       "2                    90.4  ...                   75.8                    52.7   \n",
       "3                    85.6  ...                   71.6                    55.8   \n",
       "4                    98.6  ...                   81.7                    53.8   \n",
       "5                    88.0  ...                   73.1                    56.3   \n",
       "6                    83.7  ...                   68.9                    49.0   \n",
       "7                    84.6  ...                   69.3                    49.9   \n",
       "8                    81.1  ...                   68.1                    45.3   \n",
       "9                    80.8  ...                   68.5                    49.1   \n",
       "10                   89.4  ...                   76.2                    52.5   \n",
       "11                   85.5  ...                   71.7                    50.4   \n",
       "12                   75.9  ...                   63.3                    36.4   \n",
       "13                   81.4  ...                   68.2                    36.4   \n",
       "14                   71.6  ...                   59.2                    31.1   \n",
       "15                   78.4  ...                   66.5                    33.4   \n",
       "16                   76.2  ...                   64.1                    36.2   \n",
       "17                    NaN  ...                    NaN                     NaN   \n",
       "\n",
       "    Impfquote_18plus_voll  Impfquote_18bis59_voll  Impfquote_60plus_voll  \\\n",
       "0                    80.7                    77.4                   86.8   \n",
       "1                    86.4                    83.7                   91.1   \n",
       "2                    88.0                    88.1                   88.0   \n",
       "3                    82.2                    78.4                   89.1   \n",
       "4                    94.4                    94.5                   94.1   \n",
       "5                    84.1                    81.3                   89.6   \n",
       "6                    79.5                    76.7                   85.3   \n",
       "7                    79.6                    75.5                   87.1   \n",
       "8                    79.0                    75.9                   85.2   \n",
       "9                    78.9                    76.1                   84.7   \n",
       "10                   86.4                    83.5                   90.9   \n",
       "11                   83.1                    80.0                   90.1   \n",
       "12                   73.1                    66.9                   82.3   \n",
       "13                   78.4                    72.8                   86.5   \n",
       "14                   68.6                    60.8                   80.1   \n",
       "15                   76.1                    69.2                   85.7   \n",
       "16                   73.6                    66.6                   83.5   \n",
       "17                    NaN                     NaN                    NaN   \n",
       "\n",
       "    Impfquote_gesamt_boost  Impfquote_12bis17_boost  Impfquote_18plus_boost  \\\n",
       "0                     27.6                      3.1                    32.8   \n",
       "1                     28.5                      1.5                    33.9   \n",
       "2                     22.6                      2.9                    27.0   \n",
       "3                     28.5                      3.7                    33.9   \n",
       "4                     26.6                      1.3                    31.7   \n",
       "5                     30.4                      3.3                    36.3   \n",
       "6                     24.3                      3.0                    29.0   \n",
       "7                     28.0                      3.5                    33.2   \n",
       "8                     27.4                      3.5                    32.8   \n",
       "9                     27.8                      3.0                    33.1   \n",
       "10                    32.5                      4.3                    37.9   \n",
       "11                    28.9                      3.2                    34.5   \n",
       "12                    23.3                      2.3                    27.6   \n",
       "13                    25.2                      2.7                    29.6   \n",
       "14                    22.1                      2.6                    26.1   \n",
       "15                    24.9                      2.7                    29.0   \n",
       "16                    24.8                      1.8                    29.1   \n",
       "17                     NaN                      NaN                     NaN   \n",
       "\n",
       "    Impfquote_18bis59_boost  Impfquote_60plus_boost  \n",
       "0                      24.3                    48.8  \n",
       "1                      23.2                    52.8  \n",
       "2                      20.5                    43.3  \n",
       "3                      26.2                    48.1  \n",
       "4                      21.9                    51.7  \n",
       "5                      27.2                    53.8  \n",
       "6                      21.6                    43.7  \n",
       "7                      24.5                    49.0  \n",
       "8                      25.3                    48.0  \n",
       "9                      24.3                    51.1  \n",
       "10                     28.0                    54.0  \n",
       "11                     24.3                    58.3  \n",
       "12                     19.2                    40.2  \n",
       "13                     19.9                    43.8  \n",
       "14                     17.6                    38.8  \n",
       "15                     19.0                    43.1  \n",
       "16                     19.4                    43.1  \n",
       "17                      NaN                     NaN  \n",
       "\n",
       "[18 rows x 22 columns]"
      ]
     },
     "execution_count": 512,
     "metadata": {},
     "output_type": "execute_result"
    }
   ],
   "source": [
    "rate"
   ]
  },
  {
   "cell_type": "code",
   "execution_count": 513,
   "metadata": {},
   "outputs": [],
   "source": [
    "pop = pd.read_csv(\"https://service.destatis.de/bevoelkerungspyramide/data/14_bevoelkerungsvorausberechnung_daten.csv\", sep=\";\")"
   ]
  },
  {
   "cell_type": "code",
   "execution_count": 514,
   "metadata": {},
   "outputs": [],
   "source": [
    "pop=pop.rename(columns = {j:i for i,j in enumerate(pop.columns[4:])})"
   ]
  },
  {
   "cell_type": "code",
   "execution_count": 515,
   "metadata": {},
   "outputs": [],
   "source": [
    "pop = pop.loc[pop.Variante==0,:]"
   ]
  },
  {
   "cell_type": "code",
   "execution_count": 516,
   "metadata": {},
   "outputs": [],
   "source": [
    "pop_agg = pd.pivot_table(pop, index=\"Simulationsjahr\", values=pop.columns[4:], aggfunc=np.sum)"
   ]
  },
  {
   "cell_type": "code",
   "execution_count": 517,
   "metadata": {},
   "outputs": [],
   "source": [
    "pop_groups = np.array([pop_agg.loc[2018,np.arange(12,18)].sum(),\n",
    "                       pop_agg.loc[2018,np.arange(18,60)].sum(), \n",
    "                       pop_agg.loc[2018,np.arange(60,100)].sum()])"
   ]
  },
  {
   "cell_type": "code",
   "execution_count": 518,
   "metadata": {},
   "outputs": [
    {
     "data": {
      "text/plain": [
       "array([ 4521., 46039., 23362.])"
      ]
     },
     "execution_count": 518,
     "metadata": {},
     "output_type": "execute_result"
    }
   ],
   "source": [
    "pop_groups"
   ]
  },
  {
   "cell_type": "code",
   "execution_count": 519,
   "metadata": {},
   "outputs": [
    {
     "data": {
      "text/html": [
       "<div>\n",
       "<style scoped>\n",
       "    .dataframe tbody tr th:only-of-type {\n",
       "        vertical-align: middle;\n",
       "    }\n",
       "\n",
       "    .dataframe tbody tr th {\n",
       "        vertical-align: top;\n",
       "    }\n",
       "\n",
       "    .dataframe thead th {\n",
       "        text-align: right;\n",
       "    }\n",
       "</style>\n",
       "<table border=\"1\" class=\"dataframe\">\n",
       "  <thead>\n",
       "    <tr style=\"text-align: right;\">\n",
       "      <th></th>\n",
       "      <th>min1</th>\n",
       "      <th>voll</th>\n",
       "      <th>boost</th>\n",
       "    </tr>\n",
       "    <tr>\n",
       "      <th>Altersgruppe</th>\n",
       "      <th></th>\n",
       "      <th></th>\n",
       "      <th></th>\n",
       "    </tr>\n",
       "  </thead>\n",
       "  <tbody>\n",
       "    <tr>\n",
       "      <th>12-17</th>\n",
       "      <td>57.7</td>\n",
       "      <td>49.5</td>\n",
       "      <td>3.1</td>\n",
       "    </tr>\n",
       "    <tr>\n",
       "      <th>18-59</th>\n",
       "      <td>76.7</td>\n",
       "      <td>77.4</td>\n",
       "      <td>24.3</td>\n",
       "    </tr>\n",
       "    <tr>\n",
       "      <th>60+</th>\n",
       "      <td>88</td>\n",
       "      <td>86.8</td>\n",
       "      <td>48.8</td>\n",
       "    </tr>\n",
       "  </tbody>\n",
       "</table>\n",
       "</div>"
      ],
      "text/plain": [
       "              min1  voll boost\n",
       "Altersgruppe                  \n",
       "12-17         57.7  49.5   3.1\n",
       "18-59         76.7  77.4  24.3\n",
       "60+             88  86.8  48.8"
      ]
     },
     "execution_count": 519,
     "metadata": {},
     "output_type": "execute_result"
    }
   ],
   "source": [
    "ind =[\"12bis17\", \"18bis59\",\"60plus\"]\n",
    "rate_groups = pd.DataFrame({k:rate.loc[0,[\"Impfquote_\"+j+\"_\"+k for j in ind]].values for k in [\"min1\",\"voll\",\"boost\"]}, index=ind)\n",
    "rate_groups.index = agg_avg.index\n",
    "rate_groups"
   ]
  },
  {
   "cell_type": "code",
   "execution_count": 520,
   "metadata": {},
   "outputs": [],
   "source": [
    "missing = ((1-rate_groups.T/100) * pop_groups * 1000).T"
   ]
  },
  {
   "cell_type": "code",
   "execution_count": 521,
   "metadata": {},
   "outputs": [],
   "source": [
    "missing.columns = pd.Index(np.arange(1,4))\n"
   ]
  },
  {
   "cell_type": "code",
   "execution_count": 648,
   "metadata": {},
   "outputs": [
    {
     "ename": "AttributeError",
     "evalue": "'numpy.ndarray' object has no attribute 'values'",
     "output_type": "error",
     "traceback": [
      "\u001b[0;31m---------------------------------------------------------------------------\u001b[0m",
      "\u001b[0;31mAttributeError\u001b[0m                            Traceback (most recent call last)",
      "\u001b[0;32m<ipython-input-648-6e7502e2c1a7>\u001b[0m in \u001b[0;36m<module>\u001b[0;34m\u001b[0m\n\u001b[1;32m      2\u001b[0m \u001b[0mmissing_rel\u001b[0m\u001b[0;34m[\u001b[0m\u001b[0;36m3\u001b[0m\u001b[0;34m]\u001b[0m \u001b[0;34m-=\u001b[0m \u001b[0mmissing\u001b[0m\u001b[0;34m[\u001b[0m\u001b[0;36m2\u001b[0m\u001b[0;34m]\u001b[0m\u001b[0;34m\u001b[0m\u001b[0;34m\u001b[0m\u001b[0m\n\u001b[1;32m      3\u001b[0m \u001b[0mmissing_rel\u001b[0m\u001b[0;34m[\u001b[0m\u001b[0;36m2\u001b[0m\u001b[0;34m]\u001b[0m \u001b[0;34m-=\u001b[0m  \u001b[0mmissing\u001b[0m\u001b[0;34m[\u001b[0m\u001b[0;36m1\u001b[0m\u001b[0;34m]\u001b[0m\u001b[0;34m\u001b[0m\u001b[0;34m\u001b[0m\u001b[0m\n\u001b[0;32m----> 4\u001b[0;31m \u001b[0mmissing_rel\u001b[0m\u001b[0;34m/\u001b[0m\u001b[0mpop_groups\u001b[0m\u001b[0;34m.\u001b[0m\u001b[0mvalues\u001b[0m\u001b[0;34m/\u001b[0m\u001b[0;36m1000\u001b[0m\u001b[0;34m\u001b[0m\u001b[0;34m\u001b[0m\u001b[0m\n\u001b[0m",
      "\u001b[0;31mAttributeError\u001b[0m: 'numpy.ndarray' object has no attribute 'values'"
     ]
    }
   ],
   "source": [
    "missing_rel = missing.copy()\n",
    "missing_rel[3] -= missing[2]\n",
    "missing_rel[2] -=  missing[1]\n",
    "missing_rel/pop_groups.values/1000"
   ]
  },
  {
   "cell_type": "code",
   "execution_count": 523,
   "metadata": {},
   "outputs": [
    {
     "data": {
      "text/html": [
       "<div>\n",
       "<style scoped>\n",
       "    .dataframe tbody tr th:only-of-type {\n",
       "        vertical-align: middle;\n",
       "    }\n",
       "\n",
       "    .dataframe tbody tr th {\n",
       "        vertical-align: top;\n",
       "    }\n",
       "\n",
       "    .dataframe thead th {\n",
       "        text-align: right;\n",
       "    }\n",
       "</style>\n",
       "<table border=\"1\" class=\"dataframe\">\n",
       "  <thead>\n",
       "    <tr style=\"text-align: right;\">\n",
       "      <th>Impfschutz</th>\n",
       "      <th>1</th>\n",
       "      <th>2</th>\n",
       "      <th>3</th>\n",
       "    </tr>\n",
       "    <tr>\n",
       "      <th>Altersgruppe</th>\n",
       "      <th></th>\n",
       "      <th></th>\n",
       "      <th></th>\n",
       "    </tr>\n",
       "  </thead>\n",
       "  <tbody>\n",
       "    <tr>\n",
       "      <th>12-17</th>\n",
       "      <td>115.767</td>\n",
       "      <td>31.9718</td>\n",
       "      <td>294.544</td>\n",
       "    </tr>\n",
       "    <tr>\n",
       "      <th>18-59</th>\n",
       "      <td>222.021</td>\n",
       "      <td>-5.4293</td>\n",
       "      <td>42.8875</td>\n",
       "    </tr>\n",
       "    <tr>\n",
       "      <th>60+</th>\n",
       "      <td>317.177</td>\n",
       "      <td>25.9506</td>\n",
       "      <td>20.4256</td>\n",
       "    </tr>\n",
       "  </tbody>\n",
       "</table>\n",
       "</div>"
      ],
      "text/plain": [
       "Impfschutz          1        2        3\n",
       "Altersgruppe                           \n",
       "12-17         115.767  31.9718  294.544\n",
       "18-59         222.021  -5.4293  42.8875\n",
       "60+           317.177  25.9506  20.4256"
      ]
     },
     "execution_count": 523,
     "metadata": {},
     "output_type": "execute_result"
    }
   ],
   "source": [
    "eta = 1 / agg_avg * missing_rel.values\n",
    "eta"
   ]
  },
  {
   "cell_type": "code",
   "execution_count": 524,
   "metadata": {},
   "outputs": [],
   "source": [
    "eta.iloc[:,:] = eta.values.astype(\"int\").astype(\"timedelta64[D]\") + np.datetime64(\"today\")"
   ]
  },
  {
   "cell_type": "code",
   "execution_count": 525,
   "metadata": {},
   "outputs": [],
   "source": [
    "#eta.columns = pd.Index([\"0 > 1\", \"1 > 2\", \"2 > 3\"])"
   ]
  },
  {
   "cell_type": "code",
   "execution_count": 526,
   "metadata": {},
   "outputs": [
    {
     "data": {
      "text/html": [
       "<div>\n",
       "<style scoped>\n",
       "    .dataframe tbody tr th:only-of-type {\n",
       "        vertical-align: middle;\n",
       "    }\n",
       "\n",
       "    .dataframe tbody tr th {\n",
       "        vertical-align: top;\n",
       "    }\n",
       "\n",
       "    .dataframe thead th {\n",
       "        text-align: right;\n",
       "    }\n",
       "</style>\n",
       "<table border=\"1\" class=\"dataframe\">\n",
       "  <thead>\n",
       "    <tr style=\"text-align: right;\">\n",
       "      <th>Impfschutz</th>\n",
       "      <th>1</th>\n",
       "      <th>2</th>\n",
       "      <th>3</th>\n",
       "    </tr>\n",
       "    <tr>\n",
       "      <th>Altersgruppe</th>\n",
       "      <th></th>\n",
       "      <th></th>\n",
       "      <th></th>\n",
       "    </tr>\n",
       "  </thead>\n",
       "  <tbody>\n",
       "    <tr>\n",
       "      <th>12-17</th>\n",
       "      <td>2022-04-10</td>\n",
       "      <td>2022-01-16</td>\n",
       "      <td>2022-10-06</td>\n",
       "    </tr>\n",
       "    <tr>\n",
       "      <th>18-59</th>\n",
       "      <td>2022-07-26</td>\n",
       "      <td>2021-12-11</td>\n",
       "      <td>2022-01-27</td>\n",
       "    </tr>\n",
       "    <tr>\n",
       "      <th>60+</th>\n",
       "      <td>2022-10-29</td>\n",
       "      <td>2022-01-10</td>\n",
       "      <td>2022-01-05</td>\n",
       "    </tr>\n",
       "  </tbody>\n",
       "</table>\n",
       "</div>"
      ],
      "text/plain": [
       "Impfschutz            1          2          3\n",
       "Altersgruppe                                 \n",
       "12-17        2022-04-10 2022-01-16 2022-10-06\n",
       "18-59        2022-07-26 2021-12-11 2022-01-27\n",
       "60+          2022-10-29 2022-01-10 2022-01-05"
      ]
     },
     "execution_count": 526,
     "metadata": {},
     "output_type": "execute_result"
    }
   ],
   "source": [
    "eta"
   ]
  },
  {
   "cell_type": "code",
   "execution_count": 527,
   "metadata": {},
   "outputs": [],
   "source": [
    "import matplotlib.dates as mdates\n",
    "myFmt = mdates.DateFormatter('%b \\'%y')"
   ]
  },
  {
   "cell_type": "code",
   "execution_count": 705,
   "metadata": {},
   "outputs": [
    {
     "data": {
      "image/png": "[encoded data removed]",
      "text/plain": [
       "<Figure size 360x288 with 1 Axes>"
      ]
     },
     "metadata": {
      "image/png": {
       "height": 258,
       "width": 343
      }
     },
     "output_type": "display_data"
    }
   ],
   "source": [
    "plt.rcParams['figure.facecolor']='white'\n",
    "b = eta.plot.barh(figsize=(5,4),color=['C3','C1','C0'])\n",
    "#date = pd.to_datetime(data.Impfdatum.values[-1]).strftime('%d.%m.%y')\n",
    "plt.xlabel(f\"Dauer bei gleichbeibender Rate\")\n",
    "plt.yticks(rotation=0)\n",
    "plt.xlim((np.datetime64(\"today\"),np.datetime64(\"2022-12-01\")))#eta.max().max()))\n",
    "plt.axvline(np.datetime64(\"2022-01-01\"), color='gray')\n",
    "plt.grid(axis='x', ls=\":\")\n",
    "for s in plt.gca().spines.values():\n",
    "    s.set_visible(False)\n",
    "plt.legend(title=\"Impfung Nr.\")\n",
    "plt.gca().xaxis.set_major_formatter(myFmt)\n",
    "plt.gcf().autofmt_xdate()\n"
   ]
  },
  {
   "cell_type": "code",
   "execution_count": 713,
   "metadata": {},
   "outputs": [
    {
     "data": {
      "text/plain": [
       "Text(0.5, 1.0, 'Deutschland')"
      ]
     },
     "execution_count": 713,
     "metadata": {},
     "output_type": "execute_result"
    },
    {
     "data": {
      "image/png": "[encoded data removed]",
      "text/plain": [
       "<Figure size 216x288 with 1 Axes>"
      ]
     },
     "metadata": {
      "image/png": {
       "height": 277,
       "width": 215
      }
     },
     "output_type": "display_data"
    }
   ],
   "source": [
    "missing_rel.columns = [\"kein\", \"1x\", \"2x\"]\n",
    "none = rate_groups.boost/100 * pop_groups * 1000\n",
    "none.name = \"3x\"\n",
    "pd.concat([missing_rel/1e6, none/1e6], axis=1).iloc[:,::-1].plot.bar(figsize=(3,4), stacked=True, width=0.5, color=['C3','C1','C0','C2'][::-1])\n",
    "plt.ylabel(f\"Personen [Millionen]\")\n",
    "plt.xticks(rotation=0)\n",
    "plt.ylim((0,50))\n",
    "plt.grid(axis='y', ls=\":\")\n",
    "for s in plt.gca().spines.values():\n",
    "    s.set_visible(False)\n",
    "plt.legend(title = \"Impfschutz\")\n",
    "plt.title(\"Deutschland\")"
   ]
  },
  {
   "cell_type": "code",
   "execution_count": 470,
   "metadata": {},
   "outputs": [
    {
     "data": {
      "text/plain": [
       "Index(['12-17', '18-59', '60+'], dtype='object', name='0')"
      ]
     },
     "execution_count": 470,
     "metadata": {},
     "output_type": "execute_result"
    }
   ],
   "source": [
    "pd.Index(none.index, name=\"0\")"
   ]
  },
  {
   "cell_type": "code",
   "execution_count": 475,
   "metadata": {},
   "outputs": [
    {
     "data": {
      "text/plain": [
       "'boost'"
      ]
     },
     "execution_count": 475,
     "metadata": {},
     "output_type": "execute_result"
    }
   ],
   "source": [
    "none.name"
   ]
  },
  {
   "cell_type": "code",
   "execution_count": 598,
   "metadata": {},
   "outputs": [],
   "source": [
    "uk = pd.read_csv(\"vaccination_uk.csv\")"
   ]
  },
  {
   "cell_type": "code",
   "execution_count": 599,
   "metadata": {},
   "outputs": [],
   "source": [
    "uk['factor'] = np.array([0,0,1,1,1,1,1,1,1,1,2,2,2,2,2])"
   ]
  },
  {
   "cell_type": "code",
   "execution_count": 603,
   "metadata": {},
   "outputs": [],
   "source": [
    "uk_group = uk.iloc[:,1:].groupby('factor').sum(0)\n",
    "uk_group.index=agg.index\n",
    "#uk_group[\"None\"] = uk_group[\"Pop ONS\"] - uk_group[\"1st dose\"]"
   ]
  },
  {
   "cell_type": "code",
   "execution_count": 714,
   "metadata": {},
   "outputs": [
    {
     "data": {
      "text/plain": [
       "Text(0.5, 1.0, 'England')"
      ]
     },
     "execution_count": 714,
     "metadata": {},
     "output_type": "execute_result"
    },
    {
     "data": {
      "image/png": "[encoded data removed]",
      "text/plain": [
       "<Figure size 216x288 with 1 Axes>"
      ]
     },
     "metadata": {
      "image/png": {
       "height": 277,
       "width": 215
      }
     },
     "output_type": "display_data"
    }
   ],
   "source": [
    "uk_missing = uk_group.iloc[:,:3].copy()\n",
    "uk_missing[\"1st dose\"] -= uk_missing[\"2nd dose\"]\n",
    "uk_missing[\"2nd dose\"] -= uk_missing[\"Booster and 3rd dose\"]\n",
    "uk_missing[\"None\"] = uk_group[\"Pop ONS\"] - uk_group[\"1st dose\"]\n",
    "uk_missing = uk_missing.rename(columns={x:x.split()[0] for x in uk_missing.columns.values})\n",
    "(uk_missing.iloc[:,[3,0,1,2]]/1e6).iloc[:,::-1].plot.bar(figsize=(3,4), stacked=True, width=0.5, color=['C3','C1','C0','C2'][::-1])\n",
    "plt.ylabel(f\"Personen [Millionen]\")\n",
    "plt.xticks(rotation=0)\n",
    "plt.ylim((0,50))\n",
    "plt.grid(axis='y', ls=\":\")\n",
    "for s in plt.gca().spines.values():\n",
    "    s.set_visible(False)\n",
    "plt.legend(loc=\"upper left\", title = \"Impfschutz\", ncol=2)\n",
    "plt.title(\"England\")"
   ]
  },
  {
   "cell_type": "code",
   "execution_count": 622,
   "metadata": {},
   "outputs": [
    {
     "data": {
      "text/plain": [
       "Index(['1st dose', '2nd dose', 'Booster and 3rd dose', 'None'], dtype='object')"
      ]
     },
     "execution_count": 622,
     "metadata": {},
     "output_type": "execute_result"
    }
   ],
   "source": [
    "uk_missing.columns"
   ]
  },
  {
   "cell_type": "code",
   "execution_count": 635,
   "metadata": {},
   "outputs": [
    {
     "data": {
      "text/plain": [
       "Age Group               12-1516-1718-2425-2930-3435-3940-4445-4950-545...\n",
       "1st dose                                                         42524734\n",
       "2nd dose                                                         39087613\n",
       "Booster and 3rd dose                                             20686782\n",
       "Pop ONS                                                          48375273\n",
       "factor                                                                 18\n",
       "dtype: object"
      ]
     },
     "execution_count": 635,
     "metadata": {},
     "output_type": "execute_result"
    }
   ],
   "source": [
    "uk.sum(0)"
   ]
  },
  {
   "cell_type": "code",
   "execution_count": null,
   "metadata": {},
   "outputs": [],
   "source": []
  }
 ],
 "metadata": {
  "kernelspec": {
   "display_name": "Python 3",
   "language": "python",
   "name": "python3"
  },
  "language_info": {
   "codemirror_mode": {
    "name": "ipython",
    "version": 3
   },
   "file_extension": ".py",
   "mimetype": "text/x-python",
   "name": "python",
   "nbconvert_exporter": "python",
   "pygments_lexer": "ipython3",
   "version": "3.7.9"
  }
 },
 "nbformat": 4,
 "nbformat_minor": 4
}
